{
  "nbformat": 4,
  "nbformat_minor": 0,
  "metadata": {
    "colab": {
      "provenance": [],
      "include_colab_link": true
    },
    "kernelspec": {
      "name": "python3",
      "display_name": "Python 3"
    },
    "language_info": {
      "name": "python"
    }
  },
  "cells": [
    {
      "cell_type": "markdown",
      "metadata": {
        "id": "view-in-github",
        "colab_type": "text"
      },
      "source": [
        "<a href=\"https://colab.research.google.com/github/Inaldo-Barros/C-lculo-de-M-tricas-de-Avalia-o-de-Aprendizado-/blob/main/Untitled3.ipynb\" target=\"_parent\"><img src=\"https://colab.research.google.com/assets/colab-badge.svg\" alt=\"Open In Colab\"/></a>"
      ]
    },
    {
      "cell_type": "code",
      "execution_count": 1,
      "metadata": {
        "colab": {
          "base_uri": "https://localhost:8080/"
        },
        "id": "farl0qgKZV4a",
        "outputId": "0c0d9c1f-96b9-4516-a281-fee591afeb03"
      },
      "outputs": [
        {
          "output_type": "stream",
          "name": "stdout",
          "text": [
            "Acurácia: 0.91\n",
            "Sensibilidade: 0.83\n",
            "Especificidade: 0.95\n",
            "Precisão: 0.91\n",
            "F-Score: 0.87\n",
            "\n",
            "Usando sklearn:\n",
            "Acurácia: 0.91\n",
            "Sensibilidade: 0.83\n",
            "Especificidade: 0.95\n",
            "Precisão: 0.91\n",
            "F-Score: 0.87\n"
          ]
        }
      ],
      "source": [
        "# Importar bibliotecas necessárias\n",
        "from sklearn.metrics import confusion_matrix, accuracy_score, recall_score, precision_score, f1_score\n",
        "\n",
        "# Definir a matriz de confusão (VP, FN, FP, VN)\n",
        "VP = 50\n",
        "FN = 10\n",
        "FP = 5\n",
        "VN = 100\n",
        "\n",
        "# Calcular as métricas manualmente\n",
        "acuracia = (VP + VN) / (VP + VN + FP + FN)\n",
        "sensibilidade = VP / (VP + FN)\n",
        "especificidade = VN / (VN + FP)\n",
        "precisao = VP / (VP + FP)\n",
        "f_score = 2 * (precisao * sensibilidade) / (precisao + sensibilidade)\n",
        "\n",
        "# Exibir os resultados\n",
        "print(f'Acurácia: {acuracia:.2f}')\n",
        "print(f'Sensibilidade: {sensibilidade:.2f}')\n",
        "print(f'Especificidade: {especificidade:.2f}')\n",
        "print(f'Precisão: {precisao:.2f}')\n",
        "print(f'F-Score: {f_score:.2f}')\n",
        "\n",
        "# Usando sklearn para conferir os resultados\n",
        "y_true = [1]*VP + [1]*FN + [0]*FP + [0]*VN\n",
        "y_pred = [1]*VP + [0]*FN + [1]*FP + [0]*VN\n",
        "\n",
        "# Calcular as métricas usando sklearn\n",
        "accuracy = accuracy_score(y_true, y_pred)\n",
        "recall = recall_score(y_true, y_pred)\n",
        "specificity = (VN / (VN + FP))\n",
        "precision = precision_score(y_true, y_pred)\n",
        "f1 = f1_score(y_true, y_pred)\n",
        "\n",
        "print('\\nUsando sklearn:')\n",
        "print(f'Acurácia: {accuracy:.2f}')\n",
        "print(f'Sensibilidade: {recall:.2f}')\n",
        "print(f'Especificidade: {specificity:.2f}')\n",
        "print(f'Precisão: {precision:.2f}')\n",
        "print(f'F-Score: {f1:.2f}')\n"
      ]
    }
  ]
}